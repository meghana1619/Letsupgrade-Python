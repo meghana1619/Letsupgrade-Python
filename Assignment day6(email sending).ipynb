{
 "cells": [
  {
   "cell_type": "code",
   "execution_count": 2,
   "metadata": {},
   "outputs": [],
   "source": [
    "import emails\n",
    "message = emails.html(html=\"<p>Hi!<br>Here is your receipt...\",\n",
    "                          subject=\"Your receipt No. 567098123\",\n",
    "                          mail_from=('Some Store', 'store@somestore.com'))"
   ]
  },
  {
   "cell_type": "code",
   "execution_count": 3,
   "metadata": {},
   "outputs": [],
   "source": [
    "def sendMail(email):\n",
    "    r = message.send(to=email, smtp={'host': 'smtp.gmail.com', 'timeout': 5,\n",
    "                                       'port':587,'user':'user mail','password':'password','tls':True})\n",
    "    return r.status_code"
   ]
  },
  {
   "cell_type": "code",
   "execution_count": null,
   "metadata": {},
   "outputs": [],
   "source": [
    "sendMail('sender mail')"
   ]
  }
 ],
 "metadata": {
  "kernelspec": {
   "display_name": "Python 3",
   "language": "python",
   "name": "python3"
  },
  "language_info": {
   "codemirror_mode": {
    "name": "ipython",
    "version": 3
   },
   "file_extension": ".py",
   "mimetype": "text/x-python",
   "name": "python",
   "nbconvert_exporter": "python",
   "pygments_lexer": "ipython3",
   "version": "3.7.4"
  }
 },
 "nbformat": 4,
 "nbformat_minor": 2
}
