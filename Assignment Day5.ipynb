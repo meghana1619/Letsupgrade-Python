{
 "cells": [
  {
   "cell_type": "code",
   "execution_count": 1,
   "metadata": {},
   "outputs": [
    {
     "name": "stdout",
     "output_type": "stream",
     "text": [
      "Collecting simple-crypt\n",
      "  Downloading https://files.pythonhosted.org/packages/60/66/5bf6feb073f715a61492f8a6d444ad3d884ada71af317ce7a9c80bebee60/simple-crypt-4.1.7.tar.gz\n",
      "Requirement already satisfied: pycrypto in c:\\users\\user\\anaconda3\\lib\\site-packages (from simple-crypt) (2.6.1)\n",
      "Building wheels for collected packages: simple-crypt\n",
      "  Building wheel for simple-crypt (setup.py): started\n",
      "  Building wheel for simple-crypt (setup.py): finished with status 'done'\n",
      "  Created wheel for simple-crypt: filename=simple_crypt-4.1.7-cp37-none-any.whl size=8939 sha256=fc1cb8dddc7ce2b7e29564eb65e7e566cc52f806e4cd8de53d985864bd4cfbdf\n",
      "  Stored in directory: C:\\Users\\User\\AppData\\Local\\pip\\Cache\\wheels\\bc\\d1\\70\\66b145ca518309e38a0dd41b9b1f3322e65f67c60fa499cade\n",
      "Successfully built simple-crypt\n",
      "Installing collected packages: simple-crypt\n",
      "Successfully installed simple-crypt-4.1.7\n",
      "Note: you may need to restart the kernel to use updated packages.\n"
     ]
    }
   ],
   "source": [
    "pip install simple-crypt"
   ]
  },
  {
   "cell_type": "code",
   "execution_count": 1,
   "metadata": {},
   "outputs": [],
   "source": [
    "from simplecrypt import encrypt, decrypt"
   ]
  },
  {
   "cell_type": "code",
   "execution_count": 2,
   "metadata": {},
   "outputs": [
    {
     "name": "stdout",
     "output_type": "stream",
     "text": [
      "enter message to be encryptedmeghana\n",
      "b'sc\\x00\\x02\\x9c\\x13\\xbd\\x0b\\xfdD\\xd8]\\x10\\x05_\\xfe\\xed\\x1a\\x83\\xf8\\x89\\xab\\x9a\\xf9\\xffN\\x84\\x81.\\x11q\\xbe\\xdf\\x89\\xa5\\x86\\xa1\\x95\\xd9C\\xcf5\\x9c\\x06\\xee\\xbd\\xebB\\xae\\xa87\\x88\\x8b\\x1f C\\xbe\\x99\\xdd\\x1a\\x94\\xbf\\xa4\\xac=4\\xbbf\\xe8k\\xdf\\xf3\\x04\\x97\"'\n"
     ]
    }
   ],
   "source": [
    "message = input('enter message to be encrypted')\n",
    "ciphercode = encrypt('AIM', message)\n",
    "print(ciphercode)"
   ]
  },
  {
   "cell_type": "code",
   "execution_count": 3,
   "metadata": {},
   "outputs": [
    {
     "name": "stdout",
     "output_type": "stream",
     "text": [
      "b'meghana'\n"
     ]
    }
   ],
   "source": [
    "original = decrypt('AIM', ciphercode)\n",
    "print(original)"
   ]
  },
  {
   "cell_type": "code",
   "execution_count": null,
   "metadata": {},
   "outputs": [],
   "source": []
  }
 ],
 "metadata": {
  "kernelspec": {
   "display_name": "Python 3",
   "language": "python",
   "name": "python3"
  },
  "language_info": {
   "codemirror_mode": {
    "name": "ipython",
    "version": 3
   },
   "file_extension": ".py",
   "mimetype": "text/x-python",
   "name": "python",
   "nbconvert_exporter": "python",
   "pygments_lexer": "ipython3",
   "version": "3.7.4"
  }
 },
 "nbformat": 4,
 "nbformat_minor": 2
}
